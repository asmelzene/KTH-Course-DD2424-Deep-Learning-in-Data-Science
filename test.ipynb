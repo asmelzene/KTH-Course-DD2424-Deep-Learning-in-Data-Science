{
 "cells": [
  {
   "cell_type": "code",
   "execution_count": 5,
   "metadata": {},
   "outputs": [],
   "source": [
    "import numpy as np\n",
    "\n",
    "import dataset \n",
    "#import layer\n",
    "from layer import Linear, Softmax"
   ]
  },
  {
   "cell_type": "code",
   "execution_count": 6,
   "metadata": {},
   "outputs": [
    {
     "name": "stdout",
     "output_type": "stream",
     "text": [
      "<class 'layer.Linear'>\n",
      "correct\n"
     ]
    }
   ],
   "source": [
    "lin1 = Linear()\n",
    "print(type(lin1))\n",
    "\n",
    "if type(lin1) == Linear:\n",
    "    print('correct')"
   ]
  },
  {
   "cell_type": "code",
   "execution_count": null,
   "metadata": {},
   "outputs": [],
   "source": [
    "cifar = dataset.CIFAR_IMAGES()"
   ]
  },
  {
   "cell_type": "code",
   "execution_count": null,
   "metadata": {},
   "outputs": [],
   "source": [
    "x=23\n",
    "y=np.zeros((10,2))\n",
    "z = x or y\n",
    "print(z)\n",
    "print(y)\n",
    "print(y.T)\n",
    "print(y.transpose())"
   ]
  }
 ],
 "metadata": {
  "kernelspec": {
   "display_name": "Python 3",
   "language": "python",
   "name": "python3"
  },
  "language_info": {
   "codemirror_mode": {
    "name": "ipython",
    "version": 3
   },
   "file_extension": ".py",
   "mimetype": "text/x-python",
   "name": "python",
   "nbconvert_exporter": "python",
   "pygments_lexer": "ipython3",
   "version": "3.7.4"
  }
 },
 "nbformat": 4,
 "nbformat_minor": 2
}
